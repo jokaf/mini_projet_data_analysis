{
 "cells": [
  {
   "cell_type": "markdown",
   "metadata": {},
   "source": [
    "# Mini Projet - Data Processing & Visualization\n",
    "## Burkina Faso Geographic Data Analysis\n",
    "\n",
    "**Objectif:** Extraire et analyser des données géographiques du Burkina Faso à partir de la base de données GeoNames.\n",
    "\n",
    "### Étapes du projet:\n",
    "1. Téléchargement des données depuis GeoNames\n",
    "2. Prétraitement et filtrage des données\n",
    "3. Extraction de sous-ensembles spécifiques\n",
    "4. Création de fichiers de sortie Excel\n",
    "5. Analyse statistique des coordonnées"
   ]
  },
  {
   "cell_type": "markdown",
   "metadata": {},
   "source": [
    "## 1. Import des bibliothèques nécessaires"
   ]
  },
  {
   "cell_type": "code",
   "execution_count": 1,
   "metadata": {},
   "outputs": [
    {
     "name": "stdout",
     "output_type": "stream",
     "text": [
      "Bibliothèques importées avec succès!\n"
     ]
    }
   ],
   "source": [
    "import pandas as pd\n",
    "import zipfile\n",
    "import os\n",
    "import urllib.request\n",
    "import numpy as np\n",
    "\n",
    "print(\"Bibliothèques importées avec succès!\")"
   ]
  },
  {
   "cell_type": "markdown",
   "metadata": {},
   "source": [
    "## 2. Téléchargement des données du Burkina Faso\n",
    "\n",
    "Code ISO du Burkina Faso trouvé sur GeoNames: **BF**"
   ]
  },
  {
   "cell_type": "code",
   "execution_count": 2,
   "metadata": {},
   "outputs": [
    {
     "name": "stdout",
     "output_type": "stream",
     "text": [
      "Téléchargement de https://download.geonames.org/export/dump/BF.zip...\n",
      "Fichier BF.zip téléchargé avec succès!\n"
     ]
    }
   ],
   "source": [
    "# Téléchargement du fichier ZIP pour le Burkina Faso\n",
    "url = 'https://download.geonames.org/export/dump/BF.zip'\n",
    "filename = 'BF.zip'\n",
    "\n",
    "print(f\"Téléchargement de {url}...\")\n",
    "urllib.request.urlretrieve(url, filename)\n",
    "print(f\"Fichier {filename} téléchargé avec succès!\")"
   ]
  },
  {
   "cell_type": "markdown",
   "metadata": {},
   "source": [
    "## 3. Extraction et prétraitement des données"
   ]
  },
  {
   "cell_type": "code",
   "execution_count": 3,
   "metadata": {},
   "outputs": [
    {
     "name": "stdout",
     "output_type": "stream",
     "text": [
      "Extraction du fichier ZIP...\n",
      "Fichiers dans l'archive: ['readme.txt', 'BF.txt']\n",
      "Fichier de données: BF.txt\n"
     ]
    }
   ],
   "source": [
    "# Extraction du fichier ZIP\n",
    "print(\"Extraction du fichier ZIP...\")\n",
    "with zipfile.ZipFile(filename, 'r') as zip_ref:\n",
    "    file_list = zip_ref.namelist()\n",
    "    print(f\"Fichiers dans l'archive: {file_list}\")\n",
    "    zip_ref.extractall('.')\n",
    "\n",
    "# Identification du fichier de données\n",
    "data_file = 'BF.txt'\n",
    "print(f\"Fichier de données: {data_file}\")"
   ]
  },
  {
   "cell_type": "code",
   "execution_count": 4,
   "metadata": {},
   "outputs": [
    {
     "name": "stdout",
     "output_type": "stream",
     "text": [
      "Chargement des données...\n",
      "Forme du dataset original: (11958, 19)\n",
      "Colonnes disponibles: ['geonameid', 'name', 'asciiname', 'alternatenames', 'latitude', 'longitude', 'feature_class', 'feature_code', 'country_code', 'cc2', 'admin1_code', 'admin2_code', 'admin3_code', 'admin4_code', 'population', 'elevation', 'dem', 'timezone', 'modification_date']\n",
      "\n",
      "Premières lignes du dataset:\n"
     ]
    },
    {
     "data": {
      "text/html": [
       "<div>\n",
       "<table border=\"1\" class=\"dataframe\">\n",
       "  <thead>\n",
       "    <tr style=\"text-align: right;\">\n",
       "      <th></th>\n",
       "      <th>geonameid</th>\n",
       "      <th>name</th>\n",
       "      <th>asciiname</th>\n",
       "      <th>alternatenames</th>\n",
       "      <th>latitude</th>\n",
       "      <th>longitude</th>\n",
       "      <th>feature_class</th>\n",
       "      <th>feature_code</th>\n",
       "      <th>country_code</th>\n",
       "      <th>cc2</th>\n",
       "      <th>admin1_code</th>\n",
       "      <th>admin2_code</th>\n",
       "      <th>admin3_code</th>\n",
       "      <th>admin4_code</th>\n",
       "      <th>population</th>\n",
       "      <th>elevation</th>\n",
       "      <th>dem</th>\n",
       "      <th>timezone</th>\n",
       "      <th>modification_date</th>\n",
       "    </tr>\n",
       "  </thead>\n",
       "  <tbody>\n",
       "    <tr>\n",
       "      <th>0</th>\n",
       "      <td>2282318</td>\n",
       "      <td>Pouèn</td>\n",
       "      <td>Pouen</td>\n",
       "      <td></td>\n",
       "      <td>9.72908</td>\n",
       "      <td>-2.78660</td>\n",
       "      <td>P</td>\n",
       "      <td>PPL</td>\n",
       "      <td>BF</td>\n",
       "      <td></td>\n",
       "      <td>11</td>\n",
       "      <td></td>\n",
       "      <td></td>\n",
       "      <td></td>\n",
       "      <td>0</td>\n",
       "      <td></td>\n",
       "      <td>269</td>\n",
       "      <td>Africa/Ouagadougou</td>\n",
       "      <td>2013-09-16</td>\n",
       "    </tr>\n",
       "    <tr>\n",
       "      <th>1</th>\n",
       "      <td>2285251</td>\n",
       "      <td>Léraba Occidentale</td>\n",
       "      <td>Leraba Occidentale</td>\n",
       "      <td></td>\n",
       "      <td>10.28333</td>\n",
       "      <td>-5.11667</td>\n",
       "      <td>H</td>\n",
       "      <td>STM</td>\n",
       "      <td>BF</td>\n",
       "      <td></td>\n",
       "      <td>03</td>\n",
       "      <td></td>\n",
       "      <td></td>\n",
       "      <td></td>\n",
       "      <td>0</td>\n",
       "      <td></td>\n",
       "      <td>293</td>\n",
       "      <td>Africa/Ouagadougou</td>\n",
       "      <td>2012-01-16</td>\n",
       "    </tr>\n",
       "    <tr>\n",
       "      <th>2</th>\n",
       "      <td>2287216</td>\n",
       "      <td>Kéléouoro</td>\n",
       "      <td>Keleouoro</td>\n",
       "      <td></td>\n",
       "      <td>9.80748</td>\n",
       "      <td>-4.05023</td>\n",
       "      <td>P</td>\n",
       "      <td>PPL</td>\n",
       "      <td>BF</td>\n",
       "      <td></td>\n",
       "      <td>03</td>\n",
       "      <td></td>\n",
       "      <td></td>\n",
       "      <td></td>\n",
       "      <td>0</td>\n",
       "      <td></td>\n",
       "      <td>287</td>\n",
       "      <td>Africa/Ouagadougou</td>\n",
       "      <td>2012-01-16</td>\n",
       "    </tr>\n",
       "    <tr>\n",
       "      <th>3</th>\n",
       "      <td>2294066</td>\n",
       "      <td>White Volta</td>\n",
       "      <td>White Volta</td>\n",
       "      <td>Nakambé,Nakambe,Volta Blanche</td>\n",
       "      <td>8.70194</td>\n",
       "      <td>-0.99056</td>\n",
       "      <td>H</td>\n",
       "      <td>STM</td>\n",
       "      <td>BF</td>\n",
       "      <td></td>\n",
       "      <td>09</td>\n",
       "      <td></td>\n",
       "      <td></td>\n",
       "      <td></td>\n",
       "      <td>0</td>\n",
       "      <td></td>\n",
       "      <td>183</td>\n",
       "      <td>Africa/Ouagadougou</td>\n",
       "      <td>2012-01-16</td>\n",
       "    </tr>\n",
       "    <tr>\n",
       "      <th>4</th>\n",
       "      <td>2298457</td>\n",
       "      <td>Issana Bouga</td>\n",
       "      <td>Issana Bouga</td>\n",
       "      <td></td>\n",
       "      <td>10.91667</td>\n",
       "      <td>-1.18333</td>\n",
       "      <td>P</td>\n",
       "      <td>PPL</td>\n",
       "      <td>BF</td>\n",
       "      <td></td>\n",
       "      <td>09</td>\n",
       "      <td></td>\n",
       "      <td></td>\n",
       "      <td></td>\n",
       "      <td>0</td>\n",
       "      <td></td>\n",
       "      <td>258</td>\n",
       "      <td>Africa/Ouagadougou</td>\n",
       "      <td>2012-01-16</td>\n",
       "    </tr>\n",
       "  </tbody>\n",
       "</table>\n",
       "</div>"
      ],
      "text/plain": [
       "   geonameid                name           asciiname  \\\n",
       "0    2282318               Pouèn               Pouen   \n",
       "1    2285251  Léraba Occidentale  Leraba Occidentale   \n",
       "2    2287216           Kéléouoro           Keleouoro   \n",
       "3    2294066         White Volta         White Volta   \n",
       "4    2298457        Issana Bouga        Issana Bouga   \n",
       "\n",
       "                  alternatenames  latitude  longitude feature_class  \\\n",
       "0                                  9.72908   -2.78660             P   \n",
       "1                                 10.28333   -5.11667             H   \n",
       "2                                  9.80748   -4.05023             P   \n",
       "3  Nakambé,Nakambe,Volta Blanche   8.70194   -0.99056             H   \n",
       "4                                 10.91667   -1.18333             P   \n",
       "\n",
       "  feature_code country_code cc2 admin1_code admin2_code admin3_code  \\\n",
       "0          PPL           BF              11                           \n",
       "1          STM           BF              03                           \n",
       "2          PPL           BF              03                           \n",
       "3          STM           BF              09                           \n",
       "4          PPL           BF              09                           \n",
       "\n",
       "  admin4_code  population elevation  dem            timezone modification_date  \n",
       "0                      0            269  Africa/Ouagadougou        2013-09-16  \n",
       "1                      0            293  Africa/Ouagadougou        2012-01-16  \n",
       "2                      0            287  Africa/Ouagadougou        2012-01-16  \n",
       "3                      0            183  Africa/Ouagadougou        2012-01-16  \n",
       "4                      0            258  Africa/Ouagadougou        2012-01-16  "
      ]
     },
     "execution_count": 4,
     "metadata": {},
     "output_type": "execute_result"
    }
   ],
   "source": [
    "# Définition des colonnes selon la documentation GeoNames\n",
    "column_names = [\n",
    "    'geonameid', 'name', 'asciiname', 'alternatenames', 'latitude', 'longitude',\n",
    "    'feature_class', 'feature_code', 'country_code', 'cc2', 'admin1_code', \n",
    "    'admin2_code', 'admin3_code', 'admin4_code', 'population', 'elevation', \n",
    "    'dem', 'timezone', 'modification_date'\n",
    "]\n",
    "\n",
    "# Lecture du fichier de données\n",
    "print(\"Chargement des données...\")\n",
    "df = pd.read_csv(data_file, sep='\\t', names=column_names, encoding='utf-8', \n",
    "                 on_bad_lines='skip', low_memory=False)\n",
    "\n",
    "print(f\"Forme du dataset original: {df.shape}\")\n",
    "print(f\"Colonnes disponibles: {df.columns.tolist()}\")\n",
    "print(\"\\nPremières lignes du dataset:\")\n",
    "df.head()"
   ]
  },
  {
   "cell_type": "markdown",
   "metadata": {},
   "source": [
    "## 4. Filtrage et renommage des colonnes"
   ]
  },
  {
   "cell_type": "code",
   "execution_count": 5,
   "metadata": {},
   "outputs": [
    {
     "name": "stdout",
     "output_type": "stream",
     "text": [
      "Forme du dataset filtré: (11958, 4)\n",
      "\n",
      "Premières lignes après filtrage:\n"
     ]
    },
    {
     "data": {
      "text/html": [
       "<div>\n",
       "<table border=\"1\" class=\"dataframe\">\n",
       "  <thead>\n",
       "    <tr style=\"text-align: right;\">\n",
       "      <th></th>\n",
       "      <th>ID</th>\n",
       "      <th>location_name</th>\n",
       "      <th>lat</th>\n",
       "      <th>long</th>\n",
       "    </tr>\n",
       "  </thead>\n",
       "  <tbody>\n",
       "    <tr>\n",
       "      <th>0</th>\n",
       "      <td>2282318</td>\n",
       "      <td>Pouèn</td>\n",
       "      <td>9.72908</td>\n",
       "      <td>-2.78660</td>\n",
       "    </tr>\n",
       "    <tr>\n",
       "      <th>1</th>\n",
       "      <td>2285251</td>\n",
       "      <td>Léraba Occidentale</td>\n",
       "      <td>10.28333</td>\n",
       "      <td>-5.11667</td>\n",
       "    </tr>\n",
       "    <tr>\n",
       "      <th>2</th>\n",
       "      <td>2287216</td>\n",
       "      <td>Kéléouoro</td>\n",
       "      <td>9.80748</td>\n",
       "      <td>-4.05023</td>\n",
       "    </tr>\n",
       "    <tr>\n",
       "      <th>3</th>\n",
       "      <td>2294066</td>\n",
       "      <td>White Volta</td>\n",
       "      <td>8.70194</td>\n",
       "      <td>-0.99056</td>\n",
       "    </tr>\n",
       "    <tr>\n",
       "      <th>4</th>\n",
       "      <td>2298457</td>\n",
       "      <td>Issana Bouga</td>\n",
       "      <td>10.91667</td>\n",
       "      <td>-1.18333</td>\n",
       "    </tr>\n",
       "  </tbody>\n",
       "</table>\n",
       "</div>"
      ],
      "text/plain": [
       "        ID       location_name       lat      long\n",
       "0  2282318               Pouèn   9.72908  -2.78660\n",
       "1  2285251  Léraba Occidentale  10.28333  -5.11667\n",
       "2  2287216           Kéléouoro   9.80748  -4.05023\n",
       "3  2294066         White Volta   8.70194  -0.99056\n",
       "4  2298457        Issana Bouga  10.91667  -1.18333"
      ]
     },
     "execution_count": 5,
     "metadata": {},
     "output_type": "execute_result"
    }
   ],
   "source": [
    "# Extraction des colonnes requises: ID, nom, latitude, longitude\n",
    "df_filtered = df[['geonameid', 'name', 'latitude', 'longitude']].copy()\n",
    "\n",
    "# Renommage des colonnes comme demandé\n",
    "df_filtered.columns = ['ID', 'location_name', 'lat', 'long']\n",
    "\n",
    "print(f\"Forme du dataset filtré: {df_filtered.shape}\")\n",
    "print(\"\\nPremières lignes après filtrage:\")\n",
    "df_filtered.head()"
   ]
  },
  {
   "cell_type": "code",
   "execution_count": 6,
   "metadata": {},
   "outputs": [
    {
     "name": "stdout",
     "output_type": "stream",
     "text": [
      "Fichier burkina_location.csv créé avec succès!\n",
      "Nombre total de localités: 11958\n"
     ]
    }
   ],
   "source": [
    "# Sauvegarde en CSV\n",
    "output_file = 'burkina_location.csv'\n",
    "df_filtered.to_csv(output_file, index=False, encoding='utf-8')\n",
    "print(f\"Fichier {output_file} créé avec succès!\")\n",
    "print(f\"Nombre total de localités: {len(df_filtered)}\")"
   ]
  },
  {
   "cell_type": "markdown",
   "metadata": {},
   "source": [
    "## 5. Opérations sur le fichier burkina_location.csv\n",
    "\n",
    "### 5.1 Extraction des données contenant 'gounghin'"
   ]
  },
  {
   "cell_type": "code",
   "execution_count": 7,
   "metadata": {},
   "outputs": [
    {
     "name": "stdout",
     "output_type": "stream",
     "text": [
      "Nombre de localités contenant 'gounghin': 10\n",
      "\n",
      "Localités trouvées:\n"
     ]
    },
    {
     "data": {
      "text/html": [
       "<div>\n",
       "<table border=\"1\" class=\"dataframe\">\n",
       "  <thead>\n",
       "    <tr style=\"text-align: right;\">\n",
       "      <th></th>\n",
       "      <th>ID</th>\n",
       "      <th>location_name</th>\n",
       "      <th>lat</th>\n",
       "      <th>long</th>\n",
       "    </tr>\n",
       "  </thead>\n",
       "  <tbody>\n",
       "    <tr>\n",
       "      <th>153</th>\n",
       "      <td>2353306</td>\n",
       "      <td>Gounghin</td>\n",
       "      <td>12.06677</td>\n",
       "      <td>-1.42134</td>\n",
       "    </tr>\n",
       "    <tr>\n",
       "      <th>7269</th>\n",
       "      <td>2360473</td>\n",
       "      <td>Gounghin</td>\n",
       "      <td>12.62488</td>\n",
       "      <td>-1.36398</td>\n",
       "    </tr>\n",
       "    <tr>\n",
       "      <th>10260</th>\n",
       "      <td>2570204</td>\n",
       "      <td>Gounghin</td>\n",
       "      <td>12.31436</td>\n",
       "      <td>-1.37900</td>\n",
       "    </tr>\n",
       "    <tr>\n",
       "      <th>10746</th>\n",
       "      <td>10342749</td>\n",
       "      <td>Gounghin</td>\n",
       "      <td>12.06667</td>\n",
       "      <td>-0.15000</td>\n",
       "    </tr>\n",
       "    <tr>\n",
       "      <th>10759</th>\n",
       "      <td>10629032</td>\n",
       "      <td>BICIAB // Gounghin</td>\n",
       "      <td>12.35921</td>\n",
       "      <td>-1.54273</td>\n",
       "    </tr>\n",
       "    <tr>\n",
       "      <th>10818</th>\n",
       "      <td>11257296</td>\n",
       "      <td>Gounghin Department</td>\n",
       "      <td>12.06671</td>\n",
       "      <td>-0.15484</td>\n",
       "    </tr>\n",
       "    <tr>\n",
       "      <th>10845</th>\n",
       "      <td>11900526</td>\n",
       "      <td>Gounghin Nord</td>\n",
       "      <td>12.36120</td>\n",
       "      <td>-1.55055</td>\n",
       "    </tr>\n",
       "    <tr>\n",
       "      <th>10846</th>\n",
       "      <td>11900528</td>\n",
       "      <td>Zone Industrielle de Gounghin</td>\n",
       "      <td>12.36631</td>\n",
       "      <td>-1.54137</td>\n",
       "    </tr>\n",
       "    <tr>\n",
       "      <th>10852</th>\n",
       "      <td>11900619</td>\n",
       "      <td>Gounghin Sud</td>\n",
       "      <td>12.35298</td>\n",
       "      <td>-1.54342</td>\n",
       "    </tr>\n",
       "    <tr>\n",
       "      <th>10866</th>\n",
       "      <td>11900680</td>\n",
       "      <td>Gounghin</td>\n",
       "      <td>12.35895</td>\n",
       "      <td>-1.54442</td>\n",
       "    </tr>\n",
       "  </tbody>\n",
       "</table>\n",
       "</div>"
      ],
      "text/plain": [
       "             ID                   location_name       lat      long\n",
       "153     2353306                        Gounghin  12.06677  -1.42134\n",
       "7269    2360473                        Gounghin  12.62488  -1.36398\n",
       "10260   2570204                        Gounghin  12.31436  -1.37900\n",
       "10746  10342749                        Gounghin  12.06667  -0.15000\n",
       "10759  10629032              BICIAB // Gounghin  12.35921  -1.54273\n",
       "10818  11257296             Gounghin Department  12.06671  -0.15484\n",
       "10845  11900526                   Gounghin Nord  12.36120  -1.55055\n",
       "10846  11900528  Zone Industrielle de Gounghin  12.36631  -1.54137\n",
       "10852  11900619                    Gounghin Sud  12.35298  -1.54342\n",
       "10866  11900680                        Gounghin  12.35895  -1.54442"
      ]
     },
     "execution_count": 7,
     "metadata": {},
     "output_type": "execute_result"
    }
   ],
   "source": [
    "# Recherche de toutes les localités contenant 'gounghin'\n",
    "gounghin_data = df_filtered[df_filtered['location_name'].str.contains('gounghin', case=False, na=False)]\n",
    "\n",
    "print(f\"Nombre de localités contenant 'gounghin': {len(gounghin_data)}\")\n",
    "print(\"\\nLocalités trouvées:\")\n",
    "gounghin_data"
   ]
  },
  {
   "cell_type": "code",
   "execution_count": 8,
   "metadata": {},
   "outputs": [
    {
     "name": "stdout",
     "output_type": "stream",
     "text": [
      "Fichier gounghin.csv créé avec succès!\n"
     ]
    }
   ],
   "source": [
    "# Sauvegarde des données Gounghin\n",
    "gounghin_file = 'gounghin.csv'\n",
    "gounghin_data.to_csv(gounghin_file, index=False, encoding='utf-8')\n",
    "print(f\"Fichier {gounghin_file} créé avec succès!\")"
   ]
  },
  {
   "cell_type": "markdown",
   "metadata": {},
   "source": [
    "### 5.2 Extraction des localités commençant par les lettres A-P"
   ]
  },
  {
   "cell_type": "code",
   "execution_count": 9,
   "metadata": {},
   "outputs": [
    {
     "name": "stdout",
     "output_type": "stream",
     "text": [
      "Nombre de localités commençant par A-P: 8306\n",
      "\n",
      "Premières localités A-P:\n"
     ]
    },
    {
     "data": {
      "text/html": [
       "<div>\n",
       "<table border=\"1\" class=\"dataframe\">\n",
       "  <thead>\n",
       "    <tr style=\"text-align: right;\">\n",
       "      <th></th>\n",
       "      <th>ID</th>\n",
       "      <th>location_name</th>\n",
       "      <th>lat</th>\n",
       "      <th>long</th>\n",
       "    </tr>\n",
       "  </thead>\n",
       "  <tbody>\n",
       "    <tr>\n",
       "      <th>0</th>\n",
       "      <td>2282318</td>\n",
       "      <td>Pouèn</td>\n",
       "      <td>9.72908</td>\n",
       "      <td>-2.78660</td>\n",
       "    </tr>\n",
       "    <tr>\n",
       "      <th>2</th>\n",
       "      <td>2287216</td>\n",
       "      <td>Kéléouoro</td>\n",
       "      <td>9.80748</td>\n",
       "      <td>-4.05023</td>\n",
       "    </tr>\n",
       "    <tr>\n",
       "      <th>4</th>\n",
       "      <td>2298457</td>\n",
       "      <td>Issana Bouga</td>\n",
       "      <td>10.91667</td>\n",
       "      <td>-1.18333</td>\n",
       "    </tr>\n",
       "    <tr>\n",
       "      <th>5</th>\n",
       "      <td>2353158</td>\n",
       "      <td>Zyonguen</td>\n",
       "      <td>12.36667</td>\n",
       "      <td>-0.45000</td>\n",
       "    </tr>\n",
       "    <tr>\n",
       "      <th>6</th>\n",
       "      <td>2353159</td>\n",
       "      <td>Zyiliw??l??</td>\n",
       "      <td>12.38333</td>\n",
       "      <td>-2.73333</td>\n",
       "    </tr>\n",
       "  </tbody>\n",
       "</table>\n",
       "</div>"
      ],
      "text/plain": [
       "        ID location_name       lat      long\n",
       "0  2282318         Pouèn   9.72908  -2.78660\n",
       "2  2287216     Kéléouoro   9.80748  -4.05023\n",
       "4  2298457  Issana Bouga  10.91667  -1.18333\n",
       "5  2353158      Zyonguen  12.36667  -0.45000\n",
       "6  2353159   Zyiliw??l??  12.38333  -2.73333"
      ]
     },
     "execution_count": 9,
     "metadata": {},
     "output_type": "execute_result"
    }
   ],
   "source": [
    "# Filtrage des localités commençant par A-P\n",
    "a_to_p_data = df_filtered[df_filtered['location_name'].str.match(r'^[A-Pa-p]', na=False)]\n",
    "\n",
    "print(f\"Nombre de localités commençant par A-P: {len(a_to_p_data)}\")\n",
    "print(\"\\nPremières localités A-P:\")\n",
    "a_to_p_data.head()"
   ]
  },
  {
   "cell_type": "markdown",
   "metadata": {},
   "source": [
    "### 5.3 Identification des coordonnées minimales et maximales"
   ]
  },
  {
   "cell_type": "code",
   "execution_count": 10,
   "metadata": {},
   "outputs": [
    {
     "name": "stdout",
     "output_type": "stream",
     "text": [
      "=== COORDONNÉES EXTRÊMES ===\n",
      "Latitude minimale: 5.216090°\n",
      "  → Localité: Komoé\n",
      "\n",
      "Latitude maximale: 15.077670°\n",
      "  → Localité: Lalaba\n",
      "\n",
      "Longitude minimale: -5.659680°\n",
      "  → Localité: Banifing\n",
      "\n",
      "Longitude maximale: 2.522590°\n",
      "  → Localité: Tapoa\n"
     ]
    }
   ],
   "source": [
    "# Conversion des coordonnées en valeurs numériques\n",
    "df_filtered['lat'] = pd.to_numeric(df_filtered['lat'], errors='coerce')\n",
    "df_filtered['long'] = pd.to_numeric(df_filtered['long'], errors='coerce')\n",
    "\n",
    "# Recherche des extrema\n",
    "min_lat_idx = df_filtered['lat'].idxmin()\n",
    "max_lat_idx = df_filtered['lat'].idxmax()\n",
    "min_long_idx = df_filtered['long'].idxmin()\n",
    "max_long_idx = df_filtered['long'].idxmax()\n",
    "\n",
    "print(\"=== COORDONNÉES EXTRÊMES ===\")\n",
    "print(f\"Latitude minimale: {df_filtered.loc[min_lat_idx, 'lat']:.6f}°\")\n",
    "print(f\"  → Localité: {df_filtered.loc[min_lat_idx, 'location_name']}\")\n",
    "print(f\"\\nLatitude maximale: {df_filtered.loc[max_lat_idx, 'lat']:.6f}°\")\n",
    "print(f\"  → Localité: {df_filtered.loc[max_lat_idx, 'location_name']}\")\n",
    "print(f\"\\nLongitude minimale: {df_filtered.loc[min_long_idx, 'long']:.6f}°\")\n",
    "print(f\"  → Localité: {df_filtered.loc[min_long_idx, 'location_name']}\")\n",
    "print(f\"\\nLongitude maximale: {df_filtered.loc[max_long_idx, 'long']:.6f}°\")\n",
    "print(f\"  → Localité: {df_filtered.loc[max_long_idx, 'location_name']}\")"
   ]
  },
  {
   "cell_type": "markdown",
   "metadata": {},
   "source": [
    "### 5.4 Localités avec latitude ≥ 11° et longitude ≤ 0.5°"
   ]
  },
  {
   "cell_type": "code",
   "execution_count": 11,
   "metadata": {},
   "outputs": [
    {
     "name": "stdout",
     "output_type": "stream",
     "text": [
      "Nombre de localités avec lat ≥ 11° et lon ≤ 0.5°: 9466\n",
      "\n",
      "Echantillon des localités trouvées:\n"
     ]
    },
    {
     "data": {
      "text/html": [
       "<div>\n",
       "<table border=\"1\" class=\"dataframe\">\n",
       "  <thead>\n",
       "    <tr style=\"text-align: right;\">\n",
       "      <th></th>\n",
       "      <th>ID</th>\n",
       "      <th>location_name</th>\n",
       "      <th>lat</th>\n",
       "      <th>long</th>\n",
       "    </tr>\n",
       "  </thead>\n",
       "  <tbody>\n",
       "    <tr>\n",
       "      <th>5</th>\n",
       "      <td>2353158</td>\n",
       "      <td>Zyonguen</td>\n",
       "      <td>12.36667</td>\n",
       "      <td>-0.45000</td>\n",
       "    </tr>\n",
       "    <tr>\n",
       "      <th>6</th>\n",
       "      <td>2353159</td>\n",
       "      <td>Zyiliw??l??</td>\n",
       "      <td>12.38333</td>\n",
       "      <td>-2.73333</td>\n",
       "    </tr>\n",
       "    <tr>\n",
       "      <th>7</th>\n",
       "      <td>2353160</td>\n",
       "      <td>Zyanko</td>\n",
       "      <td>12.78333</td>\n",
       "      <td>-0.41667</td>\n",
       "    </tr>\n",
       "    <tr>\n",
       "      <th>8</th>\n",
       "      <td>2353161</td>\n",
       "      <td>Zouta</td>\n",
       "      <td>13.14908</td>\n",
       "      <td>-1.28197</td>\n",
       "    </tr>\n",
       "    <tr>\n",
       "      <th>9</th>\n",
       "      <td>2353162</td>\n",
       "      <td>Zourtenga</td>\n",
       "      <td>12.95741</td>\n",
       "      <td>-1.28745</td>\n",
       "    </tr>\n",
       "  </tbody>\n",
       "</table>\n",
       "</div>"
      ],
      "text/plain": [
       "        ID location_name       lat      long\n",
       "5  2353158      Zyonguen  12.36667  -0.45000\n",
       "6  2353159   Zyiliw??l??  12.38333  -2.73333\n",
       "7  2353160        Zyanko  12.78333  -0.41667\n",
       "8  2353161         Zouta  13.14908  -1.28197\n",
       "9  2353162     Zourtenga  12.95741  -1.28745"
      ]
     },
     "execution_count": 11,
     "metadata": {},
     "output_type": "execute_result"
    }
   ],
   "source": [
    "# Filtrage selon les coordonnées spécifiées\n",
    "coord_filter = (df_filtered['lat'] >= 11) & (df_filtered['long'] <= 0.5)\n",
    "coord_filtered_data = df_filtered[coord_filter]\n",
    "\n",
    "print(f\"Nombre de localités avec lat ≥ 11° et lon ≤ 0.5°: {len(coord_filtered_data)}\")\n",
    "print(\"\\nEchantillon des localités trouvées:\")\n",
    "coord_filtered_data.head()"
   ]
  },
  {
   "cell_type": "markdown",
   "metadata": {},
   "source": [
    "## 6. Création du fichier Excel avec plusieurs feuilles"
   ]
  },
  {
   "cell_type": "code",
   "execution_count": 12,
   "metadata": {},
   "outputs": [
    {
     "name": "stdout",
     "output_type": "stream",
     "text": [
      "Feuille 'gounghin' créée avec 10 entrées\n",
      "Feuille 'A_to_P' créée avec 8306 entrées\n",
      "\n",
      "Fichier Excel 'mini_projet.xlsx' créé avec succès!\n"
     ]
    }
   ],
   "source": [
    "# Création du fichier Excel avec deux feuilles\n",
    "excel_file = 'mini_projet.xlsx'\n",
    "\n",
    "with pd.ExcelWriter(excel_file, engine='openpyxl') as writer:\n",
    "    # Feuille 1: Données Gounghin\n",
    "    gounghin_data.to_excel(writer, sheet_name='gounghin', index=False)\n",
    "    print(f\"Feuille 'gounghin' créée avec {len(gounghin_data)} entrées\")\n",
    "    \n",
    "    # Feuille 2: Données A-P\n",
    "    a_to_p_data.to_excel(writer, sheet_name='A_to_P', index=False)\n",
    "    print(f\"Feuille 'A_to_P' créée avec {len(a_to_p_data)} entrées\")\n",
    "\n",
    "print(f\"\\nFichier Excel '{excel_file}' créé avec succès!\")"
   ]
  },
  {
   "cell_type": "markdown",
   "metadata": {},
   "source": [
    "## 7. Statistiques descriptives"
   ]
  },
  {
   "cell_type": "code",
   "execution_count": 13,
   "metadata": {},
   "outputs": [
    {
     "name": "stdout",
     "output_type": "stream",
     "text": [
      "=== STATISTIQUES DESCRIPTIVES ===\n",
      "\n",
      "Coordonnées - Burkina Faso:\n"
     ]
    },
    {
     "data": {
      "text/html": [
       "<div>\n",
       "<table border=\"1\" class=\"dataframe\">\n",
       "  <thead>\n",
       "    <tr style=\"text-align: right;\">\n",
       "      <th></th>\n",
       "      <th>lat</th>\n",
       "      <th>long</th>\n",
       "    </tr>\n",
       "  </thead>\n",
       "  <tbody>\n",
       "    <tr>\n",
       "      <th>count</th>\n",
       "      <td>11958.000000</td>\n",
       "      <td>11958.000000</td>\n",
       "    </tr>\n",
       "    <tr>\n",
       "      <th>mean</th>\n",
       "      <td>12.274324</td>\n",
       "      <td>-1.184736</td>\n",
       "    </tr>\n",
       "    <tr>\n",
       "      <th>std</th>\n",
       "      <td>1.299582</td>\n",
       "      <td>1.272039</td>\n",
       "    </tr>\n",
       "    <tr>\n",
       "      <th>min</th>\n",
       "      <td>5.216090</td>\n",
       "      <td>-5.659680</td>\n",
       "    </tr>\n",
       "    <tr>\n",
       "      <th>25%</th>\n",
       "      <td>11.690420</td>\n",
       "      <td>-2.183330</td>\n",
       "    </tr>\n",
       "    <tr>\n",
       "      <th>50%</th>\n",
       "      <td>12.350000</td>\n",
       "      <td>-1.116670</td>\n",
       "    </tr>\n",
       "    <tr>\n",
       "      <th>75%</th>\n",
       "      <td>13.100000</td>\n",
       "      <td>-0.350000</td>\n",
       "    </tr>\n",
       "    <tr>\n",
       "      <th>max</th>\n",
       "      <td>15.077670</td>\n",
       "      <td>2.522590</td>\n",
       "    </tr>\n",
       "  </tbody>\n",
       "</table>\n",
       "</div>"
      ],
      "text/plain": [
       "                lat          long\n",
       "count  11958.000000  11958.000000\n",
       "mean      12.274324     -1.184736\n",
       "std        1.299582      1.272039\n",
       "min        5.216090     -5.659680\n",
       "25%       11.690420     -2.183330\n",
       "50%       12.350000     -1.116670\n",
       "75%       13.100000     -0.350000\n",
       "max       15.077670      2.522590"
      ]
     },
     "execution_count": 13,
     "metadata": {},
     "output_type": "execute_result"
    }
   ],
   "source": [
    "# Statistiques descriptives des coordonnées\n",
    "print(\"=== STATISTIQUES DESCRIPTIVES ===\")\n",
    "print(\"\\nCoordonnées - Burkina Faso:\")\n",
    "df_filtered[['lat', 'long']].describe()"
   ]
  },
  {
   "cell_type": "markdown",
   "metadata": {},
   "source": [
    "## 8. Résumé des résultats\n",
    "\n",
    "### Fichiers créés:\n",
    "1. **burkina_location.csv** - Dataset complet filtré\n",
    "2. **gounghin.csv** - Localités contenant 'gounghin'\n",
    "3. **mini_projet.xlsx** - Fichier Excel avec deux feuilles:\n",
    "   - Feuille \"gounghin\": Données Gounghin\n",
    "   - Feuille \"A_to_P\": Localités commençant par A-P"
   ]
  },
  {
   "cell_type": "code",
   "execution_count": 14,
   "metadata": {},
   "outputs": [
    {
     "name": "stdout",
     "output_type": "stream",
     "text": [
      "=== RÉSUMÉ FINAL ===\n",
      "📍 Total des localités au Burkina Faso: 11,958\n",
      "🏘️  Localités contenant 'gounghin': 10\n",
      "🔤 Localités A-P: 8,306\n",
      "🗺️  Localités (lat≥11° et lon≤0.5°): 9,466\n",
      "\n",
      "=== COORDONNÉES EXTRÊMES ===\n",
      "🌍 Étendue latitude: 5.216° à 15.078°\n",
      "🌍 Étendue longitude: -5.660° à 2.523°\n",
      "\n",
      "✅ Projet terminé avec succès!\n",
      "📁 Tous les fichiers ont été générés dans le répertoire courant.\n"
     ]
    }
   ],
   "source": [
    "print(\"=== RÉSUMÉ FINAL ===\")\n",
    "print(f\"📍 Total des localités au Burkina Faso: {len(df_filtered):,}\")\n",
    "print(f\"🏘️  Localités contenant 'gounghin': {len(gounghin_data)}\")\n",
    "print(f\"🔤 Localités A-P: {len(a_to_p_data):,}\")\n",
    "print(f\"🗺️  Localités (lat≥11° et lon≤0.5°): {len(coord_filtered_data):,}\")\n",
    "print(\"\\n=== COORDONNÉES EXTRÊMES ===\")\n",
    "print(f\"🌍 Étendue latitude: {df_filtered['lat'].min():.3f}° à {df_filtered['lat'].max():.3f}°\")\n",
    "print(f\"🌍 Étendue longitude: {df_filtered['long'].min():.3f}° à {df_filtered['long'].max():.3f}°\")\n",
    "\n",
    "print(\"\\n✅ Projet terminé avec succès!\")\n",
    "print(\"📁 Tous les fichiers ont été générés dans le répertoire courant.\")"
   ]
  }
 ],
 "metadata": {
  "kernelspec": {
   "display_name": "Python 3",
   "language": "python",
   "name": "python3"
  },
  "language_info": {
   "codemirror_mode": {
    "name": "ipython",
    "version": 3
   },
   "file_extension": ".py",
   "mimetype": "text/x-python",
   "name": "python",
   "nbconvert_exporter": "python",
   "pygments_lexer": "ipython3",
   "version": "3.13.6"
  }
 },
 "nbformat": 4,
 "nbformat_minor": 4
}